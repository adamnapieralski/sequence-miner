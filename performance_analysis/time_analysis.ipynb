{
 "metadata": {
  "language_info": {
   "codemirror_mode": {
    "name": "ipython",
    "version": 3
   },
   "file_extension": ".py",
   "mimetype": "text/x-python",
   "name": "python",
   "nbconvert_exporter": "python",
   "pygments_lexer": "ipython3",
   "version": "3.8.5-final"
  },
  "orig_nbformat": 2,
  "kernelspec": {
   "name": "python3",
   "display_name": "Python 3",
   "language": "python"
  }
 },
 "nbformat": 4,
 "nbformat_minor": 2,
 "cells": [
  {
   "cell_type": "code",
   "execution_count": 2,
   "metadata": {},
   "outputs": [],
   "source": [
    "import analyzer"
   ]
  },
  {
   "cell_type": "code",
   "execution_count": 3,
   "metadata": {},
   "outputs": [],
   "source": [
    "spmf_path = './spmf.jar'\n",
    "sequence_miner_path = '..//build/app/miner'"
   ]
  },
  {
   "cell_type": "code",
   "execution_count": 4,
   "metadata": {},
   "outputs": [],
   "source": [
    "test_10k = '../data/synthetic10k.spmf'"
   ]
  },
  {
   "cell_type": "code",
   "execution_count": 6,
   "metadata": {},
   "outputs": [
    {
     "output_type": "stream",
     "name": "stdout",
     "text": [
      "Loading file ../data/synthetic10k.spmf\nLoaded 10001 sequences\nRun PrefixSpan algorithm\nRemoving 33325 infrequent items\nExecution time = 139 [ms]\nFound 4024 frequent sequences\n\n"
     ]
    },
    {
     "output_type": "execute_result",
     "data": {
      "text/plain": [
       "{'time': 139, 'sequences_count': 4024, 'real_time': 239}"
      ]
     },
     "metadata": {},
     "execution_count": 6
    }
   ],
   "source": [
    "analyzer.benchmark(sequence_miner_path, test_10k, 'PrefixSpan', 0.002, './out_sm.txt', True)"
   ]
  },
  {
   "cell_type": "code",
   "execution_count": 7,
   "metadata": {},
   "outputs": [
    {
     "output_type": "stream",
     "name": "stdout",
     "text": [
      ">/home/lukasz/Documents/med/sequence-miner/performance_analysis/spmf.jar\n=============  PREFIXSPAN 0.99-2016 - STATISTICS =============\n Total time ~ 881 ms\n Frequent sequences count : 4024\n Max memory (mb) : 32.1588134765625\n minsup = 20 sequences.\n Pattern count : 4024\n===================================================\n\n\n"
     ]
    },
    {
     "output_type": "execute_result",
     "data": {
      "text/plain": [
       "{'time': 881, 'sequences_count': 4024, 'real_time': 1417}"
      ]
     },
     "metadata": {},
     "execution_count": 7
    }
   ],
   "source": [
    "analyzer.benchmark(spmf_path, test_10k, 'PrefixSpan', 0.002, './out_spmf.txt', True)"
   ]
  },
  {
   "cell_type": "code",
   "execution_count": 9,
   "metadata": {},
   "outputs": [
    {
     "output_type": "execute_result",
     "data": {
      "text/plain": [
       "True"
      ]
     },
     "metadata": {},
     "execution_count": 9
    }
   ],
   "source": [
    "analyzer.compare_output_files('out_sm.txt', 'out_spmf.txt')"
   ]
  }
 ]
}